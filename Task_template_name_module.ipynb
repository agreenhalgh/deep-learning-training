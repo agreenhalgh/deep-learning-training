{
  "nbformat": 4,
  "nbformat_minor": 0,
  "metadata": {
    "kernelspec": {
      "display_name": "Python 3",
      "language": "python",
      "name": "python3"
    },
    "language_info": {
      "codemirror_mode": {
        "name": "ipython",
        "version": 3
      },
      "file_extension": ".py",
      "mimetype": "text/x-python",
      "name": "python",
      "nbconvert_exporter": "python",
      "pygments_lexer": "ipython3",
      "version": "3.7.6"
    },
    "colab": {
      "name": "Task_template_name_module.ipynb",
      "provenance": []
    }
  },
  "cells": [
    {
      "cell_type": "markdown",
      "metadata": {
        "id": "lTmrWco119Uy",
        "colab_type": "text"
      },
      "source": [
        "# Module 4 - Breast Cancer Analysis \n",
        "\n",
        "This notebook is a submission for module 4c.\n",
        "\n",
        "You can:\n",
        "    add further cells or text blocks to extend or further explain your solution\n",
        "    add further functions\n",
        "\n",
        "Dont:\n",
        "    rename functions\n",
        "   "
      ]
    },
    {
      "cell_type": "code",
      "metadata": {
        "id": "jy_u1xXP19U2",
        "colab_type": "code",
        "colab": {
          "base_uri": "https://localhost:8080/",
          "height": 34
        },
        "outputId": "deb38787-8c5c-4d56-e489-20b875a4a056"
      },
      "source": [
        "# Fixed dependencies - do not remove or change.\n",
        "import pytest\n",
        "import pandas as pd\n",
        "import numpy as np\n",
        "\n",
        "\n",
        "# Import your dependencies\n",
        "import keras.models\n",
        "import keras.layers \n"
      ],
      "execution_count": 2,
      "outputs": [
        {
          "output_type": "stream",
          "text": [
            "Using TensorFlow backend.\n"
          ],
          "name": "stderr"
        }
      ]
    },
    {
      "cell_type": "code",
      "metadata": {
        "id": "9IpLzdQj19VF",
        "colab_type": "code",
        "colab": {}
      },
      "source": [
        "# Import data\n",
        "\n",
        "def import_local_data(file_path):\n",
        "    \"\"\"This function needs to import the data file into collab and return a pandas dataframe\n",
        "    \"\"\"\n",
        "    return pd.read_excel(file_path)"
      ],
      "execution_count": 0,
      "outputs": []
    },
    {
      "cell_type": "code",
      "metadata": {
        "id": "H4PbgaLK19VN",
        "colab_type": "code",
        "colab": {}
      },
      "source": [
        "local_file_path = \"https://github.com/agreenhalgh/deep-learning-training/blob/master/breast-cancer.xls?raw=true\""
      ],
      "execution_count": 0,
      "outputs": []
    },
    {
      "cell_type": "code",
      "metadata": {
        "id": "PWh6Gp_019VY",
        "colab_type": "code",
        "colab": {}
      },
      "source": [
        "# Dont change\n",
        "raw_data = import_local_data(local_file_path)"
      ],
      "execution_count": 0,
      "outputs": []
    },
    {
      "cell_type": "markdown",
      "metadata": {
        "id": "vuwNr79a19Vf",
        "colab_type": "text"
      },
      "source": [
        "### Conduct exploratory data analysis and explain your key findings"
      ]
    },
    {
      "cell_type": "code",
      "metadata": {
        "id": "4ynHBTl-19Vg",
        "colab_type": "code",
        "colab": {
          "base_uri": "https://localhost:8080/",
          "height": 419
        },
        "outputId": "d5b234a2-f8e8-476d-8675-8b34be994f04"
      },
      "source": [
        "raw_data\n"
      ],
      "execution_count": 9,
      "outputs": [
        {
          "output_type": "execute_result",
          "data": {
            "text/html": [
              "<div>\n",
              "<style scoped>\n",
              "    .dataframe tbody tr th:only-of-type {\n",
              "        vertical-align: middle;\n",
              "    }\n",
              "\n",
              "    .dataframe tbody tr th {\n",
              "        vertical-align: top;\n",
              "    }\n",
              "\n",
              "    .dataframe thead th {\n",
              "        text-align: right;\n",
              "    }\n",
              "</style>\n",
              "<table border=\"1\" class=\"dataframe\">\n",
              "  <thead>\n",
              "    <tr style=\"text-align: right;\">\n",
              "      <th></th>\n",
              "      <th>age</th>\n",
              "      <th>menopause</th>\n",
              "      <th>tumor-size</th>\n",
              "      <th>inv-nodes</th>\n",
              "      <th>node-caps</th>\n",
              "      <th>deg-malig</th>\n",
              "      <th>breast</th>\n",
              "      <th>breast-quad</th>\n",
              "      <th>irradiat</th>\n",
              "      <th>Class</th>\n",
              "    </tr>\n",
              "  </thead>\n",
              "  <tbody>\n",
              "    <tr>\n",
              "      <th>0</th>\n",
              "      <td>40-49</td>\n",
              "      <td>premeno</td>\n",
              "      <td>15-19</td>\n",
              "      <td>0-2</td>\n",
              "      <td>yes</td>\n",
              "      <td>3</td>\n",
              "      <td>right</td>\n",
              "      <td>left_up</td>\n",
              "      <td>no</td>\n",
              "      <td>recurrence-events</td>\n",
              "    </tr>\n",
              "    <tr>\n",
              "      <th>1</th>\n",
              "      <td>50-59</td>\n",
              "      <td>ge40</td>\n",
              "      <td>15-19</td>\n",
              "      <td>0-2</td>\n",
              "      <td>no</td>\n",
              "      <td>1</td>\n",
              "      <td>right</td>\n",
              "      <td>central</td>\n",
              "      <td>no</td>\n",
              "      <td>no-recurrence-events</td>\n",
              "    </tr>\n",
              "    <tr>\n",
              "      <th>2</th>\n",
              "      <td>50-59</td>\n",
              "      <td>ge40</td>\n",
              "      <td>35-39</td>\n",
              "      <td>0-2</td>\n",
              "      <td>no</td>\n",
              "      <td>2</td>\n",
              "      <td>left</td>\n",
              "      <td>left_low</td>\n",
              "      <td>no</td>\n",
              "      <td>recurrence-events</td>\n",
              "    </tr>\n",
              "    <tr>\n",
              "      <th>3</th>\n",
              "      <td>40-49</td>\n",
              "      <td>premeno</td>\n",
              "      <td>35-39</td>\n",
              "      <td>0-2</td>\n",
              "      <td>yes</td>\n",
              "      <td>3</td>\n",
              "      <td>right</td>\n",
              "      <td>left_low</td>\n",
              "      <td>yes</td>\n",
              "      <td>no-recurrence-events</td>\n",
              "    </tr>\n",
              "    <tr>\n",
              "      <th>4</th>\n",
              "      <td>40-49</td>\n",
              "      <td>premeno</td>\n",
              "      <td>30-34</td>\n",
              "      <td>2019-05-03 00:00:00</td>\n",
              "      <td>yes</td>\n",
              "      <td>2</td>\n",
              "      <td>left</td>\n",
              "      <td>right_up</td>\n",
              "      <td>no</td>\n",
              "      <td>recurrence-events</td>\n",
              "    </tr>\n",
              "    <tr>\n",
              "      <th>...</th>\n",
              "      <td>...</td>\n",
              "      <td>...</td>\n",
              "      <td>...</td>\n",
              "      <td>...</td>\n",
              "      <td>...</td>\n",
              "      <td>...</td>\n",
              "      <td>...</td>\n",
              "      <td>...</td>\n",
              "      <td>...</td>\n",
              "      <td>...</td>\n",
              "    </tr>\n",
              "    <tr>\n",
              "      <th>281</th>\n",
              "      <td>50-59</td>\n",
              "      <td>ge40</td>\n",
              "      <td>30-34</td>\n",
              "      <td>2019-08-06 00:00:00</td>\n",
              "      <td>yes</td>\n",
              "      <td>2</td>\n",
              "      <td>left</td>\n",
              "      <td>left_low</td>\n",
              "      <td>no</td>\n",
              "      <td>no-recurrence-events</td>\n",
              "    </tr>\n",
              "    <tr>\n",
              "      <th>282</th>\n",
              "      <td>50-59</td>\n",
              "      <td>premeno</td>\n",
              "      <td>25-29</td>\n",
              "      <td>2019-05-03 00:00:00</td>\n",
              "      <td>yes</td>\n",
              "      <td>2</td>\n",
              "      <td>left</td>\n",
              "      <td>left_low</td>\n",
              "      <td>yes</td>\n",
              "      <td>no-recurrence-events</td>\n",
              "    </tr>\n",
              "    <tr>\n",
              "      <th>283</th>\n",
              "      <td>30-39</td>\n",
              "      <td>premeno</td>\n",
              "      <td>30-34</td>\n",
              "      <td>2019-08-06 00:00:00</td>\n",
              "      <td>yes</td>\n",
              "      <td>2</td>\n",
              "      <td>right</td>\n",
              "      <td>right_up</td>\n",
              "      <td>no</td>\n",
              "      <td>no-recurrence-events</td>\n",
              "    </tr>\n",
              "    <tr>\n",
              "      <th>284</th>\n",
              "      <td>50-59</td>\n",
              "      <td>premeno</td>\n",
              "      <td>15-19</td>\n",
              "      <td>0-2</td>\n",
              "      <td>no</td>\n",
              "      <td>2</td>\n",
              "      <td>right</td>\n",
              "      <td>left_low</td>\n",
              "      <td>no</td>\n",
              "      <td>no-recurrence-events</td>\n",
              "    </tr>\n",
              "    <tr>\n",
              "      <th>285</th>\n",
              "      <td>50-59</td>\n",
              "      <td>ge40</td>\n",
              "      <td>40-44</td>\n",
              "      <td>0-2</td>\n",
              "      <td>no</td>\n",
              "      <td>3</td>\n",
              "      <td>left</td>\n",
              "      <td>right_up</td>\n",
              "      <td>no</td>\n",
              "      <td>no-recurrence-events</td>\n",
              "    </tr>\n",
              "  </tbody>\n",
              "</table>\n",
              "<p>286 rows × 10 columns</p>\n",
              "</div>"
            ],
            "text/plain": [
              "       age menopause tumor-size  ... breast-quad irradiat                 Class\n",
              "0    40-49   premeno      15-19  ...     left_up       no     recurrence-events\n",
              "1    50-59      ge40      15-19  ...     central       no  no-recurrence-events\n",
              "2    50-59      ge40      35-39  ...    left_low       no     recurrence-events\n",
              "3    40-49   premeno      35-39  ...    left_low      yes  no-recurrence-events\n",
              "4    40-49   premeno      30-34  ...    right_up       no     recurrence-events\n",
              "..     ...       ...        ...  ...         ...      ...                   ...\n",
              "281  50-59      ge40      30-34  ...    left_low       no  no-recurrence-events\n",
              "282  50-59   premeno      25-29  ...    left_low      yes  no-recurrence-events\n",
              "283  30-39   premeno      30-34  ...    right_up       no  no-recurrence-events\n",
              "284  50-59   premeno      15-19  ...    left_low       no  no-recurrence-events\n",
              "285  50-59      ge40      40-44  ...    right_up       no  no-recurrence-events\n",
              "\n",
              "[286 rows x 10 columns]"
            ]
          },
          "metadata": {
            "tags": []
          },
          "execution_count": 9
        }
      ]
    },
    {
      "cell_type": "markdown",
      "metadata": {
        "id": "ctSLBf1N-bn0",
        "colab_type": "text"
      },
      "source": [
        "The age column is classified into ranges. Take the midpoint of each age as the value. "
      ]
    },
    {
      "cell_type": "code",
      "metadata": {
        "id": "DEkAAkSkAIx3",
        "colab_type": "code",
        "colab": {}
      },
      "source": [
        "#update the age to first number + 5"
      ],
      "execution_count": 0,
      "outputs": []
    },
    {
      "cell_type": "markdown",
      "metadata": {
        "id": "A3AJ9lTsAT3m",
        "colab_type": "text"
      },
      "source": [
        "Menopause is another categorical variable. Use 1 hot encoding to split in to seperate fields"
      ]
    },
    {
      "cell_type": "markdown",
      "metadata": {
        "id": "qbafhXib9bW8",
        "colab_type": "text"
      },
      "source": [
        "The Class column contains the outcome, which is a binary classification. This will become the `y` dataset. "
      ]
    },
    {
      "cell_type": "code",
      "metadata": {
        "id": "Vaip_OM3-Pk1",
        "colab_type": "code",
        "colab": {}
      },
      "source": [
        ""
      ],
      "execution_count": 0,
      "outputs": []
    },
    {
      "cell_type": "code",
      "metadata": {
        "id": "RvOWsaN319Vn",
        "colab_type": "code",
        "colab": {}
      },
      "source": [
        "# Explain your key findings"
      ],
      "execution_count": 0,
      "outputs": []
    },
    {
      "cell_type": "code",
      "metadata": {
        "id": "el2Cfct-19Vv",
        "colab_type": "code",
        "colab": {}
      },
      "source": [
        ""
      ],
      "execution_count": 0,
      "outputs": []
    },
    {
      "cell_type": "markdown",
      "metadata": {
        "id": "zgpD2Hxv19V0",
        "colab_type": "text"
      },
      "source": [
        "Create any data pre-processing that you will conduct on seen and unseen data.  Regardless of the model you use, this dataframe must contain only numeric features and have a strategy for any expected missing values. Any objects can that are needed to handle the test data that are dependent on the training data can be stored in the model class.  You are recommended to use sklearn Pipelines or similar functionality to ensure reproduccibility."
      ]
    },
    {
      "cell_type": "code",
      "metadata": {
        "id": "iGc4pBwE19V1",
        "colab_type": "code",
        "colab": {}
      },
      "source": [
        "# Split your data so that you can test the effectiveness of your model"
      ],
      "execution_count": 0,
      "outputs": []
    },
    {
      "cell_type": "code",
      "metadata": {
        "id": "-iHvjHz219V6",
        "colab_type": "code",
        "colab": {}
      },
      "source": [
        "# Populate preprocess_training_data and preprocess_test_data to"
      ],
      "execution_count": 0,
      "outputs": []
    },
    {
      "cell_type": "code",
      "metadata": {
        "id": "-_7lpAgc19V-",
        "colab_type": "code",
        "colab": {}
      },
      "source": [
        "class Module4_Model(object):\n",
        "    \n",
        "    def __init__(self):\n",
        "        self.model = None\n",
        "        \n",
        "    def preprocess_training_data(self, training_df):\n",
        "        \"\"\"\n",
        "        This function should conduct\n",
        "        \"\"\"\n",
        "        return processed_df\n",
        "\n",
        "    def preprocess_test_data(self, test_df):\n",
        "\n",
        "        return processed_df\n",
        "\n"
      ],
      "execution_count": 0,
      "outputs": []
    },
    {
      "cell_type": "code",
      "metadata": {
        "id": "Kk8ff_uz19WC",
        "colab_type": "code",
        "colab": {}
      },
      "source": [
        "# Dont change\n",
        "my_model = Module4_Model()"
      ],
      "execution_count": 0,
      "outputs": []
    },
    {
      "cell_type": "code",
      "metadata": {
        "id": "6knlf1RH19WI",
        "colab_type": "code",
        "colab": {}
      },
      "source": [
        "# Dont change\n",
        "x_train_processed = my_model.preprocess_training_data(x_train)"
      ],
      "execution_count": 0,
      "outputs": []
    },
    {
      "cell_type": "code",
      "metadata": {
        "id": "tHdr8yUJ19WM",
        "colab_type": "code",
        "colab": {}
      },
      "source": [
        "# Create a model"
      ],
      "execution_count": 0,
      "outputs": []
    },
    {
      "cell_type": "code",
      "metadata": {
        "id": "PDkWVQ8I19WR",
        "colab_type": "code",
        "colab": {}
      },
      "source": [
        ""
      ],
      "execution_count": 0,
      "outputs": []
    },
    {
      "cell_type": "code",
      "metadata": {
        "id": "hD1_cJKO19WZ",
        "colab_type": "code",
        "colab": {}
      },
      "source": [
        "# Dont change\n",
        "x_test_processed = my_model.preprocess_test_data(x_test)"
      ],
      "execution_count": 0,
      "outputs": []
    },
    {
      "cell_type": "code",
      "metadata": {
        "id": "5EsfYk2k19Wb",
        "colab_type": "code",
        "colab": {}
      },
      "source": [
        "# Train your model"
      ],
      "execution_count": 0,
      "outputs": []
    },
    {
      "cell_type": "code",
      "metadata": {
        "id": "3kIOP3A819We",
        "colab_type": "code",
        "colab": {}
      },
      "source": [
        ""
      ],
      "execution_count": 0,
      "outputs": []
    },
    {
      "cell_type": "code",
      "metadata": {
        "id": "CQ8NBIlx19Wi",
        "colab_type": "code",
        "colab": {}
      },
      "source": [
        "# use your model to make a prediction on unseen data"
      ],
      "execution_count": 0,
      "outputs": []
    },
    {
      "cell_type": "code",
      "metadata": {
        "id": "rqf_cniK19Wn",
        "colab_type": "code",
        "colab": {}
      },
      "source": [
        ""
      ],
      "execution_count": 0,
      "outputs": []
    },
    {
      "cell_type": "code",
      "metadata": {
        "id": "BmRd3Bd819Wr",
        "colab_type": "code",
        "colab": {}
      },
      "source": [
        "# Asssess the accuracy of your model and explain your key findings"
      ],
      "execution_count": 0,
      "outputs": []
    },
    {
      "cell_type": "code",
      "metadata": {
        "id": "nluzyScw19Wv",
        "colab_type": "code",
        "colab": {}
      },
      "source": [
        ""
      ],
      "execution_count": 0,
      "outputs": []
    }
  ]
}